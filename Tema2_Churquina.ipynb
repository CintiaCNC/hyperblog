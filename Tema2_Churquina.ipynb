{
  "nbformat": 4,
  "nbformat_minor": 0,
  "metadata": {
    "colab": {
      "name": "Tema2-Churquina.ipynb",
      "provenance": [],
      "collapsed_sections": [],
      "authorship_tag": "ABX9TyPj/RG8tdb/ocBi1N+t5VTk",
      "include_colab_link": true
    },
    "kernelspec": {
      "name": "python3",
      "display_name": "Python 3"
    },
    "language_info": {
      "name": "python"
    }
  },
  "cells": [
    {
      "cell_type": "markdown",
      "metadata": {
        "id": "view-in-github",
        "colab_type": "text"
      },
      "source": [
        "<a href=\"https://colab.research.google.com/github/CintiaCNC/hyperblog/blob/main/Tema2_Churquina.ipynb\" target=\"_parent\"><img src=\"https://colab.research.google.com/assets/colab-badge.svg\" alt=\"Open In Colab\"/></a>"
      ]
    },
    {
      "cell_type": "markdown",
      "metadata": {
        "id": "5XHsO2PYtuop"
      },
      "source": [
        "Separar en canales\n"
      ]
    },
    {
      "cell_type": "code",
      "metadata": {
        "id": "NiEgw7a3txvC"
      },
      "source": [
        "import matplotlib.pyplot as plt\n",
        "\n",
        "img1 = plt.imread('image1.png')\n",
        "plt.imshow(img1)\n",
        "plt.show()\n",
        "\n",
        "img1 = plt.imread(\"image1.png\")/255.\n",
        "print(\"Dimensiones de la imagen:\")\n",
        "print(img1.shape)\n",
        "\n",
        "plt.imshow(img1[:,:,0])\n",
        "plt.title(\"Canal Rojo\")\n",
        "plt.figure()\n",
        "plt.imshow(img1[:,:,1])\n",
        "plt.title(\"Canal Verde\")\n",
        "plt.figure()\n",
        "plt.imshow(img1[:,:,2])\n",
        "plt.title(\"Canal Azul\")"
      ],
      "execution_count": null,
      "outputs": []
    },
    {
      "cell_type": "code",
      "metadata": {
        "id": "D1Mn3eWlLGVQ"
      },
      "source": [
        "separar en canales (color)"
      ],
      "execution_count": null,
      "outputs": []
    },
    {
      "cell_type": "code",
      "metadata": {
        "id": "0QBpXWERMUSi"
      },
      "source": [
        "import numpy as np\n",
        "import matplotlib.pyplot as plt\n",
        "\n",
        "image = plt.imread('image1.png')\n",
        "\n",
        "b = image.copy()\n",
        "# verde y rojo = 0\n",
        "b[:, :, 1] = 0\n",
        "b[:, :, 2] = 0\n",
        "g = image.copy()\n",
        "# azul y rojo = 0\n",
        "g[:, :, 0] = 0\n",
        "g[:, :, 2] = 0\n",
        "r = image.copy()\n",
        "# azul y verde los pongo a 0\n",
        "r[:, :, 0] = 0\n",
        "r[:, :, 1] = 0\n",
        "# RGB - Blue\n",
        "plt.imshow(b)\n",
        "plt.show()\n",
        "# RGB - Green\n",
        "plt.imshow(g)\n",
        "plt.show()\n",
        "# RGB - Red\n",
        "plt.imshow(r)\n",
        "plt.show()"
      ],
      "execution_count": null,
      "outputs": []
    },
    {
      "cell_type": "markdown",
      "metadata": {
        "id": "CmyO2OaEbYTT"
      },
      "source": [
        "Normalizazion\n"
      ]
    },
    {
      "cell_type": "code",
      "metadata": {
        "id": "BZIrdhAfquH3"
      },
      "source": [
        "#Primero lo paso a punto flotante para poder trabajar sin restricciones y luego lo normalizo"
      ],
      "execution_count": null,
      "outputs": []
    },
    {
      "cell_type": "code",
      "metadata": {
        "id": "qhBgSeTKq09z"
      },
      "source": [
        "import numpy as np\n",
        "import matplotlib.pyplot as plt\n",
        "\n",
        "image1 = plt.imread('image1.png')\n",
        "plt.imshow(image1)\n",
        "plt.show()\n",
        "\n",
        "image = plt.imread('image1.png')/255.\n",
        "plt.imshow(image)\n",
        "plt.show()\n",
        "print(image)\n",
        "print(image.dtype)\n",
        "print(image.shape)\n",
        "\n",
        "#hasta aqui esta normalizado y es del tipo flotante"
      ],
      "execution_count": null,
      "outputs": []
    },
    {
      "cell_type": "markdown",
      "metadata": {
        "id": "485ZZMI5VrxR"
      },
      "source": [
        "RGB a YIQ"
      ]
    },
    {
      "cell_type": "code",
      "metadata": {
        "id": "l0y5saTb2-l_"
      },
      "source": [
        "def transformar_rgb_yiq(image):\n",
        "\n",
        "  YIQ=np.zeros(image.shape)\n",
        "\n",
        "  YIQ[:,:,0]=0.229*image[:,:,0]+0.587*image[:,:,1]+0.114*image[:,:,2]\n",
        "  plt.subplot(2,1,2)\n",
        "  plt.imshow(YIQ[:,:,0])\n",
        "  plt.show()\n",
        "\n",
        "\n",
        "  YIQ[:,:,1]=0.595716*image[:,:,0]-0.274453*image[:,:,1]-0.321263*image[:,:,2]\n",
        "  plt.subplot(2,1,2)\n",
        "  plt.imshow(YIQ[:,:,1])\n",
        "  plt.show()\n",
        "\n",
        "  YIQ[:,:,2]=0.211456*image[:,:,0]-0.522591*image[:,:,1]+0.311135*image[:,:,2]\n",
        "  plt.subplot(2,1,2)\n",
        "  plt.imshow(YIQ[:,:,2])\n",
        "  plt.show()\n",
        "\n",
        "  return YIQ"
      ],
      "execution_count": 91,
      "outputs": []
    },
    {
      "cell_type": "code",
      "metadata": {
        "id": "EjLWJTMa4XXm"
      },
      "source": [
        "import numpy as np\n",
        "import matplotlib.pyplot as plt\n",
        "\n",
        "image = plt.imread('image1redim.png')/255.\n",
        "YIQ = transformar_rgb_yiq(image)\n",
        "\n",
        "#plt.imshow(YIQ)\n",
        "print(YIQ.dtype)\n"
      ],
      "execution_count": null,
      "outputs": []
    },
    {
      "cell_type": "markdown",
      "metadata": {
        "id": "zts2SclTV0Nk"
      },
      "source": [
        "YIQ a RGB"
      ]
    },
    {
      "cell_type": "code",
      "metadata": {
        "id": "Z1DrPV6X-G6H"
      },
      "source": [
        "import numpy as np\n",
        "import matplotlib.pyplot as plt\n",
        "\n",
        "image =np.zeros(YIQ.shape)\n",
        "\n",
        "image[:,:,0] = YIQ[:,:,0] + 0.9963*YIQ[:,:,1] + 0.6210*YIQ[:,:,2]\n",
        "plt.subplot(2,1,2)\n",
        "plt.imshow(image[:,:,0])\n",
        "plt.show()\n",
        " \n",
        "image[:,:,1] = YIQ[:,:,0] - 0.2721*YIQ[:,:,1] - 0.6474*YIQ[:,:,2]\n",
        "plt.subplot(2,1,2)\n",
        "plt.imshow(image[:,:,1])\n",
        "plt.show()\n",
        "\n",
        "image[:,:,2] = YIQ[:,:,0] - 1.1070*YIQ[:,:,1] + 1.7046*YIQ[:,:,2]\n",
        "plt.subplot(2,1,2)\n",
        "plt.imshow(image[:,:,2])\n",
        "plt.show()\n",
        " \n"
      ],
      "execution_count": null,
      "outputs": []
    },
    {
      "cell_type": "code",
      "metadata": {
        "id": "k6Db4v59E3HK"
      },
      "source": [
        ""
      ],
      "execution_count": null,
      "outputs": []
    }
  ]
}